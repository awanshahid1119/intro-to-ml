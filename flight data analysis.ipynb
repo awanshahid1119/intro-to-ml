{
 "cells": [
  {
   "cell_type": "code",
   "execution_count": 1,
   "id": "impressive-registrar",
   "metadata": {
    "execution": {
     "iopub.execute_input": "2021-07-05T14:04:29.172978Z",
     "iopub.status.busy": "2021-07-05T14:04:29.171248Z",
     "iopub.status.idle": "2021-07-05T14:04:30.164758Z",
     "shell.execute_reply": "2021-07-05T14:04:30.165507Z",
     "shell.execute_reply.started": "2021-07-05T13:51:37.373126Z"
    },
    "papermill": {
     "duration": 1.030077,
     "end_time": "2021-07-05T14:04:30.165809",
     "exception": false,
     "start_time": "2021-07-05T14:04:29.135732",
     "status": "completed"
    },
    "tags": []
   },
   "outputs": [],
   "source": [
    "import pandas as pd\n",
    "from sklearn.model_selection import train_test_split"
   ]
  },
  {
   "cell_type": "code",
   "execution_count": 2,
   "id": "liable-bennett",
   "metadata": {
    "execution": {
     "iopub.execute_input": "2021-07-05T14:04:30.228824Z",
     "iopub.status.busy": "2021-07-05T14:04:30.227858Z",
     "iopub.status.idle": "2021-07-05T14:04:30.391413Z",
     "shell.execute_reply": "2021-07-05T14:04:30.390779Z",
     "shell.execute_reply.started": "2021-07-05T13:51:37.379402Z"
    },
    "papermill": {
     "duration": 0.195964,
     "end_time": "2021-07-05T14:04:30.391549",
     "exception": false,
     "start_time": "2021-07-05T14:04:30.195585",
     "status": "completed"
    },
    "tags": []
   },
   "outputs": [
    {
     "data": {
      "text/html": [
       "<div>\n",
       "<style scoped>\n",
       "    .dataframe tbody tr th:only-of-type {\n",
       "        vertical-align: middle;\n",
       "    }\n",
       "\n",
       "    .dataframe tbody tr th {\n",
       "        vertical-align: top;\n",
       "    }\n",
       "\n",
       "    .dataframe thead th {\n",
       "        text-align: right;\n",
       "    }\n",
       "</style>\n",
       "<table border=\"1\" class=\"dataframe\">\n",
       "  <thead>\n",
       "    <tr style=\"text-align: right;\">\n",
       "      <th></th>\n",
       "      <th>MONTH</th>\n",
       "      <th>DAY_OF_MONTH</th>\n",
       "      <th>DAY_OF_WEEK</th>\n",
       "      <th>OP_UNIQUE_CARRIER</th>\n",
       "      <th>TAIL_NUM</th>\n",
       "      <th>DEST</th>\n",
       "      <th>DEP_DELAY</th>\n",
       "      <th>CRS_ELAPSED_TIME</th>\n",
       "      <th>DISTANCE</th>\n",
       "      <th>CRS_DEP_M</th>\n",
       "      <th>...</th>\n",
       "      <th>Dew Point</th>\n",
       "      <th>Humidity</th>\n",
       "      <th>Wind</th>\n",
       "      <th>Wind Speed</th>\n",
       "      <th>Wind Gust</th>\n",
       "      <th>Pressure</th>\n",
       "      <th>Condition</th>\n",
       "      <th>sch_dep</th>\n",
       "      <th>sch_arr</th>\n",
       "      <th>TAXI_OUT</th>\n",
       "    </tr>\n",
       "  </thead>\n",
       "  <tbody>\n",
       "    <tr>\n",
       "      <th>0</th>\n",
       "      <td>11</td>\n",
       "      <td>1</td>\n",
       "      <td>5</td>\n",
       "      <td>B6</td>\n",
       "      <td>N828JB</td>\n",
       "      <td>CHS</td>\n",
       "      <td>-1</td>\n",
       "      <td>124</td>\n",
       "      <td>636</td>\n",
       "      <td>324</td>\n",
       "      <td>...</td>\n",
       "      <td>34</td>\n",
       "      <td>58</td>\n",
       "      <td>W</td>\n",
       "      <td>25</td>\n",
       "      <td>38</td>\n",
       "      <td>29.86</td>\n",
       "      <td>Fair / Windy</td>\n",
       "      <td>9</td>\n",
       "      <td>17</td>\n",
       "      <td>14</td>\n",
       "    </tr>\n",
       "    <tr>\n",
       "      <th>1</th>\n",
       "      <td>11</td>\n",
       "      <td>1</td>\n",
       "      <td>5</td>\n",
       "      <td>B6</td>\n",
       "      <td>N992JB</td>\n",
       "      <td>LAX</td>\n",
       "      <td>-7</td>\n",
       "      <td>371</td>\n",
       "      <td>2475</td>\n",
       "      <td>340</td>\n",
       "      <td>...</td>\n",
       "      <td>34</td>\n",
       "      <td>58</td>\n",
       "      <td>W</td>\n",
       "      <td>25</td>\n",
       "      <td>38</td>\n",
       "      <td>29.86</td>\n",
       "      <td>Fair / Windy</td>\n",
       "      <td>9</td>\n",
       "      <td>17</td>\n",
       "      <td>15</td>\n",
       "    </tr>\n",
       "    <tr>\n",
       "      <th>2</th>\n",
       "      <td>11</td>\n",
       "      <td>1</td>\n",
       "      <td>5</td>\n",
       "      <td>B6</td>\n",
       "      <td>N959JB</td>\n",
       "      <td>FLL</td>\n",
       "      <td>40</td>\n",
       "      <td>181</td>\n",
       "      <td>1069</td>\n",
       "      <td>301</td>\n",
       "      <td>...</td>\n",
       "      <td>34</td>\n",
       "      <td>58</td>\n",
       "      <td>W</td>\n",
       "      <td>25</td>\n",
       "      <td>38</td>\n",
       "      <td>29.86</td>\n",
       "      <td>Fair / Windy</td>\n",
       "      <td>9</td>\n",
       "      <td>17</td>\n",
       "      <td>22</td>\n",
       "    </tr>\n",
       "    <tr>\n",
       "      <th>3</th>\n",
       "      <td>11</td>\n",
       "      <td>1</td>\n",
       "      <td>5</td>\n",
       "      <td>B6</td>\n",
       "      <td>N999JQ</td>\n",
       "      <td>MCO</td>\n",
       "      <td>-2</td>\n",
       "      <td>168</td>\n",
       "      <td>944</td>\n",
       "      <td>345</td>\n",
       "      <td>...</td>\n",
       "      <td>34</td>\n",
       "      <td>58</td>\n",
       "      <td>W</td>\n",
       "      <td>25</td>\n",
       "      <td>38</td>\n",
       "      <td>29.86</td>\n",
       "      <td>Fair / Windy</td>\n",
       "      <td>9</td>\n",
       "      <td>17</td>\n",
       "      <td>12</td>\n",
       "    </tr>\n",
       "    <tr>\n",
       "      <th>4</th>\n",
       "      <td>11</td>\n",
       "      <td>1</td>\n",
       "      <td>5</td>\n",
       "      <td>DL</td>\n",
       "      <td>N880DN</td>\n",
       "      <td>ATL</td>\n",
       "      <td>-4</td>\n",
       "      <td>139</td>\n",
       "      <td>760</td>\n",
       "      <td>360</td>\n",
       "      <td>...</td>\n",
       "      <td>32</td>\n",
       "      <td>58</td>\n",
       "      <td>W</td>\n",
       "      <td>24</td>\n",
       "      <td>35</td>\n",
       "      <td>29.91</td>\n",
       "      <td>Fair / Windy</td>\n",
       "      <td>9</td>\n",
       "      <td>17</td>\n",
       "      <td>13</td>\n",
       "    </tr>\n",
       "  </tbody>\n",
       "</table>\n",
       "<p>5 rows × 23 columns</p>\n",
       "</div>"
      ],
      "text/plain": [
       "   MONTH  DAY_OF_MONTH  DAY_OF_WEEK OP_UNIQUE_CARRIER TAIL_NUM DEST  \\\n",
       "0     11             1            5                B6   N828JB  CHS   \n",
       "1     11             1            5                B6   N992JB  LAX   \n",
       "2     11             1            5                B6   N959JB  FLL   \n",
       "3     11             1            5                B6   N999JQ  MCO   \n",
       "4     11             1            5                DL   N880DN  ATL   \n",
       "\n",
       "   DEP_DELAY  CRS_ELAPSED_TIME  DISTANCE  CRS_DEP_M  ...  Dew Point  Humidity  \\\n",
       "0         -1               124       636        324  ...         34        58   \n",
       "1         -7               371      2475        340  ...         34        58   \n",
       "2         40               181      1069        301  ...         34        58   \n",
       "3         -2               168       944        345  ...         34        58   \n",
       "4         -4               139       760        360  ...         32        58   \n",
       "\n",
       "   Wind Wind Speed  Wind Gust Pressure     Condition  sch_dep  sch_arr  \\\n",
       "0     W         25         38    29.86  Fair / Windy        9       17   \n",
       "1     W         25         38    29.86  Fair / Windy        9       17   \n",
       "2     W         25         38    29.86  Fair / Windy        9       17   \n",
       "3     W         25         38    29.86  Fair / Windy        9       17   \n",
       "4     W         24         35    29.91  Fair / Windy        9       17   \n",
       "\n",
       "  TAXI_OUT  \n",
       "0       14  \n",
       "1       15  \n",
       "2       22  \n",
       "3       12  \n",
       "4       13  \n",
       "\n",
       "[5 rows x 23 columns]"
      ]
     },
     "execution_count": 2,
     "metadata": {},
     "output_type": "execute_result"
    }
   ],
   "source": [
    "df=pd.read_csv(\"../input/flight-take-off-data-jfk-airport/M1_final.csv\")\n",
    "df.head()\n"
   ]
  },
  {
   "cell_type": "code",
   "execution_count": 3,
   "id": "british-humanitarian",
   "metadata": {
    "execution": {
     "iopub.execute_input": "2021-07-05T14:04:30.463663Z",
     "iopub.status.busy": "2021-07-05T14:04:30.462957Z",
     "iopub.status.idle": "2021-07-05T14:04:30.465962Z",
     "shell.execute_reply": "2021-07-05T14:04:30.465481Z",
     "shell.execute_reply.started": "2021-07-05T13:51:37.490991Z"
    },
    "papermill": {
     "duration": 0.04402,
     "end_time": "2021-07-05T14:04:30.466108",
     "exception": false,
     "start_time": "2021-07-05T14:04:30.422088",
     "status": "completed"
    },
    "tags": []
   },
   "outputs": [],
   "source": [
    "df=df.drop(\"TAIL_NUM\",axis=1)"
   ]
  },
  {
   "cell_type": "code",
   "execution_count": 4,
   "id": "severe-anatomy",
   "metadata": {
    "execution": {
     "iopub.execute_input": "2021-07-05T14:04:30.531174Z",
     "iopub.status.busy": "2021-07-05T14:04:30.530493Z",
     "iopub.status.idle": "2021-07-05T14:04:30.533451Z",
     "shell.execute_reply": "2021-07-05T14:04:30.533942Z",
     "shell.execute_reply.started": "2021-07-05T13:51:37.501679Z"
    },
    "papermill": {
     "duration": 0.037681,
     "end_time": "2021-07-05T14:04:30.534153",
     "exception": false,
     "start_time": "2021-07-05T14:04:30.496472",
     "status": "completed"
    },
    "tags": []
   },
   "outputs": [],
   "source": [
    "# Select numerical columns\n",
    "#numerical_cols = [cname for cname in X.columns if X[cname].dtype in ['int64', 'float64']]\n",
    "\n",
    "# Select categorical columns \n",
    "#cat_cols = [cname for cname in X.columns if X[cname].dtype == \"object\"]\n",
    "\n",
    "#my_cols = cat_cols + numerical_cols\n",
    "\n",
    "#df= X[my_cols].copy()\n",
    "#df.head()"
   ]
  },
  {
   "cell_type": "code",
   "execution_count": 5,
   "id": "patent-cancellation",
   "metadata": {
    "execution": {
     "iopub.execute_input": "2021-07-05T14:04:30.601398Z",
     "iopub.status.busy": "2021-07-05T14:04:30.600663Z",
     "iopub.status.idle": "2021-07-05T14:04:30.605191Z",
     "shell.execute_reply": "2021-07-05T14:04:30.605675Z",
     "shell.execute_reply.started": "2021-07-05T13:51:37.515336Z"
    },
    "papermill": {
     "duration": 0.041301,
     "end_time": "2021-07-05T14:04:30.605842",
     "exception": false,
     "start_time": "2021-07-05T14:04:30.564541",
     "status": "completed"
    },
    "tags": []
   },
   "outputs": [
    {
     "name": "stdout",
     "output_type": "stream",
     "text": [
      "Categorical variables:\n",
      "['OP_UNIQUE_CARRIER', 'DEST', 'Dew Point', 'Wind', 'Condition']\n"
     ]
    }
   ],
   "source": [
    "# Get list of categorical variables\n",
    "s = (df.dtypes == 'object')\n",
    "object_cols = list(s[s].index)\n",
    "\n",
    "print(\"Categorical variables:\")\n",
    "print(object_cols)"
   ]
  },
  {
   "cell_type": "markdown",
   "id": "returning-methodology",
   "metadata": {
    "papermill": {
     "duration": 0.030276,
     "end_time": "2021-07-05T14:04:30.666681",
     "exception": false,
     "start_time": "2021-07-05T14:04:30.636405",
     "status": "completed"
    },
    "tags": []
   },
   "source": [
    "# label encoding"
   ]
  },
  {
   "cell_type": "code",
   "execution_count": 6,
   "id": "knowing-economy",
   "metadata": {
    "execution": {
     "iopub.execute_input": "2021-07-05T14:04:30.733425Z",
     "iopub.status.busy": "2021-07-05T14:04:30.732773Z",
     "iopub.status.idle": "2021-07-05T14:04:30.807081Z",
     "shell.execute_reply": "2021-07-05T14:04:30.807565Z",
     "shell.execute_reply.started": "2021-07-05T13:51:37.531136Z"
    },
    "papermill": {
     "duration": 0.110426,
     "end_time": "2021-07-05T14:04:30.807736",
     "exception": false,
     "start_time": "2021-07-05T14:04:30.697310",
     "status": "completed"
    },
    "tags": []
   },
   "outputs": [
    {
     "data": {
      "text/html": [
       "<div>\n",
       "<style scoped>\n",
       "    .dataframe tbody tr th:only-of-type {\n",
       "        vertical-align: middle;\n",
       "    }\n",
       "\n",
       "    .dataframe tbody tr th {\n",
       "        vertical-align: top;\n",
       "    }\n",
       "\n",
       "    .dataframe thead th {\n",
       "        text-align: right;\n",
       "    }\n",
       "</style>\n",
       "<table border=\"1\" class=\"dataframe\">\n",
       "  <thead>\n",
       "    <tr style=\"text-align: right;\">\n",
       "      <th></th>\n",
       "      <th>MONTH</th>\n",
       "      <th>DAY_OF_MONTH</th>\n",
       "      <th>DAY_OF_WEEK</th>\n",
       "      <th>OP_UNIQUE_CARRIER</th>\n",
       "      <th>DEST</th>\n",
       "      <th>DEP_DELAY</th>\n",
       "      <th>CRS_ELAPSED_TIME</th>\n",
       "      <th>DISTANCE</th>\n",
       "      <th>CRS_DEP_M</th>\n",
       "      <th>DEP_TIME_M</th>\n",
       "      <th>...</th>\n",
       "      <th>Dew Point</th>\n",
       "      <th>Humidity</th>\n",
       "      <th>Wind</th>\n",
       "      <th>Wind Speed</th>\n",
       "      <th>Wind Gust</th>\n",
       "      <th>Pressure</th>\n",
       "      <th>Condition</th>\n",
       "      <th>sch_dep</th>\n",
       "      <th>sch_arr</th>\n",
       "      <th>TAXI_OUT</th>\n",
       "    </tr>\n",
       "  </thead>\n",
       "  <tbody>\n",
       "    <tr>\n",
       "      <th>0</th>\n",
       "      <td>11</td>\n",
       "      <td>1</td>\n",
       "      <td>5</td>\n",
       "      <td>3</td>\n",
       "      <td>10</td>\n",
       "      <td>-1</td>\n",
       "      <td>124</td>\n",
       "      <td>636</td>\n",
       "      <td>324</td>\n",
       "      <td>323</td>\n",
       "      <td>...</td>\n",
       "      <td>30</td>\n",
       "      <td>58</td>\n",
       "      <td>15</td>\n",
       "      <td>25</td>\n",
       "      <td>38</td>\n",
       "      <td>29.86</td>\n",
       "      <td>4</td>\n",
       "      <td>9</td>\n",
       "      <td>17</td>\n",
       "      <td>14</td>\n",
       "    </tr>\n",
       "    <tr>\n",
       "      <th>1</th>\n",
       "      <td>11</td>\n",
       "      <td>1</td>\n",
       "      <td>5</td>\n",
       "      <td>3</td>\n",
       "      <td>28</td>\n",
       "      <td>-7</td>\n",
       "      <td>371</td>\n",
       "      <td>2475</td>\n",
       "      <td>340</td>\n",
       "      <td>333</td>\n",
       "      <td>...</td>\n",
       "      <td>30</td>\n",
       "      <td>58</td>\n",
       "      <td>15</td>\n",
       "      <td>25</td>\n",
       "      <td>38</td>\n",
       "      <td>29.86</td>\n",
       "      <td>4</td>\n",
       "      <td>9</td>\n",
       "      <td>17</td>\n",
       "      <td>15</td>\n",
       "    </tr>\n",
       "    <tr>\n",
       "      <th>2</th>\n",
       "      <td>11</td>\n",
       "      <td>1</td>\n",
       "      <td>5</td>\n",
       "      <td>3</td>\n",
       "      <td>20</td>\n",
       "      <td>40</td>\n",
       "      <td>181</td>\n",
       "      <td>1069</td>\n",
       "      <td>301</td>\n",
       "      <td>341</td>\n",
       "      <td>...</td>\n",
       "      <td>30</td>\n",
       "      <td>58</td>\n",
       "      <td>15</td>\n",
       "      <td>25</td>\n",
       "      <td>38</td>\n",
       "      <td>29.86</td>\n",
       "      <td>4</td>\n",
       "      <td>9</td>\n",
       "      <td>17</td>\n",
       "      <td>22</td>\n",
       "    </tr>\n",
       "    <tr>\n",
       "      <th>3</th>\n",
       "      <td>11</td>\n",
       "      <td>1</td>\n",
       "      <td>5</td>\n",
       "      <td>3</td>\n",
       "      <td>30</td>\n",
       "      <td>-2</td>\n",
       "      <td>168</td>\n",
       "      <td>944</td>\n",
       "      <td>345</td>\n",
       "      <td>343</td>\n",
       "      <td>...</td>\n",
       "      <td>30</td>\n",
       "      <td>58</td>\n",
       "      <td>15</td>\n",
       "      <td>25</td>\n",
       "      <td>38</td>\n",
       "      <td>29.86</td>\n",
       "      <td>4</td>\n",
       "      <td>9</td>\n",
       "      <td>17</td>\n",
       "      <td>12</td>\n",
       "    </tr>\n",
       "    <tr>\n",
       "      <th>4</th>\n",
       "      <td>11</td>\n",
       "      <td>1</td>\n",
       "      <td>5</td>\n",
       "      <td>4</td>\n",
       "      <td>1</td>\n",
       "      <td>-4</td>\n",
       "      <td>139</td>\n",
       "      <td>760</td>\n",
       "      <td>360</td>\n",
       "      <td>356</td>\n",
       "      <td>...</td>\n",
       "      <td>28</td>\n",
       "      <td>58</td>\n",
       "      <td>15</td>\n",
       "      <td>24</td>\n",
       "      <td>35</td>\n",
       "      <td>29.91</td>\n",
       "      <td>4</td>\n",
       "      <td>9</td>\n",
       "      <td>17</td>\n",
       "      <td>13</td>\n",
       "    </tr>\n",
       "  </tbody>\n",
       "</table>\n",
       "<p>5 rows × 22 columns</p>\n",
       "</div>"
      ],
      "text/plain": [
       "   MONTH  DAY_OF_MONTH  DAY_OF_WEEK  OP_UNIQUE_CARRIER  DEST  DEP_DELAY  \\\n",
       "0     11             1            5                  3    10         -1   \n",
       "1     11             1            5                  3    28         -7   \n",
       "2     11             1            5                  3    20         40   \n",
       "3     11             1            5                  3    30         -2   \n",
       "4     11             1            5                  4     1         -4   \n",
       "\n",
       "   CRS_ELAPSED_TIME  DISTANCE  CRS_DEP_M  DEP_TIME_M  ...  Dew Point  \\\n",
       "0               124       636        324         323  ...         30   \n",
       "1               371      2475        340         333  ...         30   \n",
       "2               181      1069        301         341  ...         30   \n",
       "3               168       944        345         343  ...         30   \n",
       "4               139       760        360         356  ...         28   \n",
       "\n",
       "   Humidity  Wind  Wind Speed  Wind Gust  Pressure  Condition  sch_dep  \\\n",
       "0        58    15          25         38     29.86          4        9   \n",
       "1        58    15          25         38     29.86          4        9   \n",
       "2        58    15          25         38     29.86          4        9   \n",
       "3        58    15          25         38     29.86          4        9   \n",
       "4        58    15          24         35     29.91          4        9   \n",
       "\n",
       "   sch_arr  TAXI_OUT  \n",
       "0       17        14  \n",
       "1       17        15  \n",
       "2       17        22  \n",
       "3       17        12  \n",
       "4       17        13  \n",
       "\n",
       "[5 rows x 22 columns]"
      ]
     },
     "execution_count": 6,
     "metadata": {},
     "output_type": "execute_result"
    }
   ],
   "source": [
    "from sklearn.preprocessing import LabelEncoder\n",
    "# Make copy to avoid changing original data \n",
    "label_df = df.copy()\n",
    "label_encoder = LabelEncoder()\n",
    "for col in object_cols:\n",
    "    label_df[col] = label_encoder.fit_transform(df[col])\n",
    "    \n",
    "\n",
    "label_df.head()"
   ]
  },
  {
   "cell_type": "code",
   "execution_count": 7,
   "id": "purple-physics",
   "metadata": {
    "execution": {
     "iopub.execute_input": "2021-07-05T14:04:30.877245Z",
     "iopub.status.busy": "2021-07-05T14:04:30.876541Z",
     "iopub.status.idle": "2021-07-05T14:04:30.900854Z",
     "shell.execute_reply": "2021-07-05T14:04:30.900094Z",
     "shell.execute_reply.started": "2021-07-05T13:51:37.615897Z"
    },
    "papermill": {
     "duration": 0.06199,
     "end_time": "2021-07-05T14:04:30.901002",
     "exception": false,
     "start_time": "2021-07-05T14:04:30.839012",
     "status": "completed"
    },
    "tags": []
   },
   "outputs": [
    {
     "name": "stdout",
     "output_type": "stream",
     "text": [
      "(19309, 21) (9511, 21) (19309,) (9511,)\n"
     ]
    }
   ],
   "source": [
    "y=label_df.TAXI_OUT\n",
    "X=label_df.drop(['TAXI_OUT'], axis =1)\n",
    "from sklearn.model_selection import train_test_split\n",
    "X_train, X_test, y_train, y_test = train_test_split( X, y, test_size=0.33, random_state=42)\n",
    "print(X_train.shape,X_test.shape,y_train.shape,y_test.shape)"
   ]
  },
  {
   "cell_type": "markdown",
   "id": "three-darkness",
   "metadata": {
    "papermill": {
     "duration": 0.031115,
     "end_time": "2021-07-05T14:04:30.963631",
     "exception": false,
     "start_time": "2021-07-05T14:04:30.932516",
     "status": "completed"
    },
    "tags": []
   },
   "source": [
    "# 1. Linear Regression with Label Encoding"
   ]
  },
  {
   "cell_type": "code",
   "execution_count": 8,
   "id": "demanding-personal",
   "metadata": {
    "execution": {
     "iopub.execute_input": "2021-07-05T14:04:31.032241Z",
     "iopub.status.busy": "2021-07-05T14:04:31.031446Z",
     "iopub.status.idle": "2021-07-05T14:04:31.187322Z",
     "shell.execute_reply": "2021-07-05T14:04:31.188178Z",
     "shell.execute_reply.started": "2021-07-05T13:51:37.643733Z"
    },
    "papermill": {
     "duration": 0.193243,
     "end_time": "2021-07-05T14:04:31.188449",
     "exception": false,
     "start_time": "2021-07-05T14:04:30.995206",
     "status": "completed"
    },
    "tags": []
   },
   "outputs": [
    {
     "name": "stdout",
     "output_type": "stream",
     "text": [
      "6.552141905428975\n"
     ]
    }
   ],
   "source": [
    "from sklearn.linear_model import LinearRegression\n",
    "from sklearn.metrics import mean_squared_error\n",
    "linear_model=LinearRegression()\n",
    "linear_model.fit(X_train,y_train)\n",
    "pred=linear_model.predict(X_test)\n",
    "mse1=mean_squared_error(y_test,pred)**0.5\n",
    "print(mse1)"
   ]
  },
  {
   "cell_type": "markdown",
   "id": "attached-methodology",
   "metadata": {
    "papermill": {
     "duration": 0.042141,
     "end_time": "2021-07-05T14:04:31.315180",
     "exception": false,
     "start_time": "2021-07-05T14:04:31.273039",
     "status": "completed"
    },
    "tags": []
   },
   "source": [
    "# 2. Ridge Regression with Label Encoding"
   ]
  },
  {
   "cell_type": "code",
   "execution_count": 9,
   "id": "conservative-charleston",
   "metadata": {
    "execution": {
     "iopub.execute_input": "2021-07-05T14:04:31.386422Z",
     "iopub.status.busy": "2021-07-05T14:04:31.385656Z",
     "iopub.status.idle": "2021-07-05T14:04:31.405467Z",
     "shell.execute_reply": "2021-07-05T14:04:31.406479Z",
     "shell.execute_reply.started": "2021-07-05T13:51:37.801312Z"
    },
    "papermill": {
     "duration": 0.059767,
     "end_time": "2021-07-05T14:04:31.406751",
     "exception": false,
     "start_time": "2021-07-05T14:04:31.346984",
     "status": "completed"
    },
    "tags": []
   },
   "outputs": [
    {
     "name": "stdout",
     "output_type": "stream",
     "text": [
      "6.557043371122483\n"
     ]
    }
   ],
   "source": [
    "from sklearn.linear_model import Ridge\n",
    "ridge_reg=Ridge(alpha=0.05, normalize=True)\n",
    "ridge_reg.fit(X_train,y_train)\n",
    "pred1=ridge_reg.predict(X_test)\n",
    "mse2=mean_squared_error(y_test,pred1)**0.5\n",
    "print(mse2)"
   ]
  },
  {
   "cell_type": "markdown",
   "id": "major-harvey",
   "metadata": {
    "papermill": {
     "duration": 0.056756,
     "end_time": "2021-07-05T14:04:31.520222",
     "exception": false,
     "start_time": "2021-07-05T14:04:31.463466",
     "status": "completed"
    },
    "tags": []
   },
   "source": [
    "# 3. Lasso Regression with Label Encoding"
   ]
  },
  {
   "cell_type": "code",
   "execution_count": 10,
   "id": "valid-gambling",
   "metadata": {
    "execution": {
     "iopub.execute_input": "2021-07-05T14:04:31.593373Z",
     "iopub.status.busy": "2021-07-05T14:04:31.592700Z",
     "iopub.status.idle": "2021-07-05T14:04:31.770047Z",
     "shell.execute_reply": "2021-07-05T14:04:31.771187Z",
     "shell.execute_reply.started": "2021-07-05T13:51:37.847465Z"
    },
    "papermill": {
     "duration": 0.218664,
     "end_time": "2021-07-05T14:04:31.771451",
     "exception": false,
     "start_time": "2021-07-05T14:04:31.552787",
     "status": "completed"
    },
    "tags": []
   },
   "outputs": [
    {
     "name": "stdout",
     "output_type": "stream",
     "text": [
      "6.6051775024757315\n"
     ]
    }
   ],
   "source": [
    "from sklearn.linear_model import Lasso\n",
    "las_reg=Lasso(alpha=1,max_iter=1000,tol=.01)\n",
    "las_reg.fit(X_train,y_train)\n",
    "pred2=las_reg.predict(X_test)\n",
    "mse3=mean_squared_error(y_test,pred2)**0.5\n",
    "print(mse3)"
   ]
  },
  {
   "cell_type": "markdown",
   "id": "sound-apartment",
   "metadata": {
    "papermill": {
     "duration": 0.034349,
     "end_time": "2021-07-05T14:04:31.909681",
     "exception": false,
     "start_time": "2021-07-05T14:04:31.875332",
     "status": "completed"
    },
    "tags": []
   },
   "source": [
    "# 4. KNN Regression with Label Encoding"
   ]
  },
  {
   "cell_type": "code",
   "execution_count": 11,
   "id": "confused-thousand",
   "metadata": {
    "execution": {
     "iopub.execute_input": "2021-07-05T14:04:31.980571Z",
     "iopub.status.busy": "2021-07-05T14:04:31.979806Z",
     "iopub.status.idle": "2021-07-05T14:04:35.968423Z",
     "shell.execute_reply": "2021-07-05T14:04:35.968893Z",
     "shell.execute_reply.started": "2021-07-05T13:51:38.104235Z"
    },
    "papermill": {
     "duration": 4.026605,
     "end_time": "2021-07-05T14:04:35.969072",
     "exception": false,
     "start_time": "2021-07-05T14:04:31.942467",
     "status": "completed"
    },
    "tags": []
   },
   "outputs": [
    {
     "name": "stdout",
     "output_type": "stream",
     "text": [
      "6.6545484856439945\n"
     ]
    }
   ],
   "source": [
    "from sklearn.neighbors import KNeighborsRegressor\n",
    "knnr=KNeighborsRegressor(n_neighbors=200)\n",
    "knnr.fit(X_train,y_train)\n",
    "pred3=knnr.predict(X_test)\n",
    "mse4=mean_squared_error(y_test,pred3)**0.5\n",
    "print(mse4)"
   ]
  },
  {
   "cell_type": "markdown",
   "id": "urban-cheat",
   "metadata": {
    "papermill": {
     "duration": 0.032666,
     "end_time": "2021-07-05T14:04:36.034313",
     "exception": false,
     "start_time": "2021-07-05T14:04:36.001647",
     "status": "completed"
    },
    "tags": []
   },
   "source": [
    "# 5. Support Vector Regression with Label Encoding"
   ]
  },
  {
   "cell_type": "code",
   "execution_count": 12,
   "id": "statewide-knowing",
   "metadata": {
    "execution": {
     "iopub.execute_input": "2021-07-05T14:04:36.107953Z",
     "iopub.status.busy": "2021-07-05T14:04:36.107343Z",
     "iopub.status.idle": "2021-07-05T14:05:15.704463Z",
     "shell.execute_reply": "2021-07-05T14:05:15.704966Z",
     "shell.execute_reply.started": "2021-07-05T13:51:42.191004Z"
    },
    "papermill": {
     "duration": 39.638079,
     "end_time": "2021-07-05T14:05:15.705157",
     "exception": false,
     "start_time": "2021-07-05T14:04:36.067078",
     "status": "completed"
    },
    "tags": []
   },
   "outputs": [
    {
     "name": "stdout",
     "output_type": "stream",
     "text": [
      "6.341401156519218\n"
     ]
    }
   ],
   "source": [
    "from sklearn.svm import SVR\n",
    "from sklearn.preprocessing import StandardScaler\n",
    "sc1=StandardScaler()\n",
    "sc2=StandardScaler()\n",
    "x1=X_train.copy()\n",
    "x2=X_test.copy()\n",
    "x1=sc1.fit_transform(x1)\n",
    "x2=sc2.fit_transform(x2)\n",
    "svr=SVR()\n",
    "svr.fit(x1,y_train)\n",
    "pred4=svr.predict(x2)\n",
    "mse5=mean_squared_error(y_test,pred4)**0.5\n",
    "print(mse5)"
   ]
  },
  {
   "cell_type": "markdown",
   "id": "essential-cleveland",
   "metadata": {
    "papermill": {
     "duration": 0.032603,
     "end_time": "2021-07-05T14:05:15.770742",
     "exception": false,
     "start_time": "2021-07-05T14:05:15.738139",
     "status": "completed"
    },
    "tags": []
   },
   "source": [
    "# 6. Random Forest with Label Encoding"
   ]
  },
  {
   "cell_type": "code",
   "execution_count": 13,
   "id": "expired-google",
   "metadata": {
    "execution": {
     "iopub.execute_input": "2021-07-05T14:05:15.842183Z",
     "iopub.status.busy": "2021-07-05T14:05:15.841397Z",
     "iopub.status.idle": "2021-07-05T14:05:35.506387Z",
     "shell.execute_reply": "2021-07-05T14:05:35.507023Z",
     "shell.execute_reply.started": "2021-07-05T13:52:21.503733Z"
    },
    "papermill": {
     "duration": 19.703645,
     "end_time": "2021-07-05T14:05:35.507267",
     "exception": false,
     "start_time": "2021-07-05T14:05:15.803622",
     "status": "completed"
    },
    "tags": []
   },
   "outputs": [
    {
     "name": "stdout",
     "output_type": "stream",
     "text": [
      "5.750369783266689\n"
     ]
    }
   ],
   "source": [
    "from sklearn.ensemble import RandomForestRegressor\n",
    "rand=RandomForestRegressor()\n",
    "rand.fit(X_train,y_train)\n",
    "pred5=rand.predict(X_test)\n",
    "mse6=mean_squared_error(y_test,pred5)**0.5\n",
    "print(mse6)"
   ]
  },
  {
   "cell_type": "markdown",
   "id": "objective-entity",
   "metadata": {
    "papermill": {
     "duration": 0.032782,
     "end_time": "2021-07-05T14:05:35.574078",
     "exception": false,
     "start_time": "2021-07-05T14:05:35.541296",
     "status": "completed"
    },
    "tags": []
   },
   "source": [
    "# 7. Light GBM model with Label Encoding"
   ]
  },
  {
   "cell_type": "code",
   "execution_count": 14,
   "id": "european-dinner",
   "metadata": {
    "execution": {
     "iopub.execute_input": "2021-07-05T14:05:35.646330Z",
     "iopub.status.busy": "2021-07-05T14:05:35.645521Z",
     "iopub.status.idle": "2021-07-05T14:05:37.062841Z",
     "shell.execute_reply": "2021-07-05T14:05:37.063608Z",
     "shell.execute_reply.started": "2021-07-05T13:52:42.247534Z"
    },
    "papermill": {
     "duration": 1.456244,
     "end_time": "2021-07-05T14:05:37.063804",
     "exception": false,
     "start_time": "2021-07-05T14:05:35.607560",
     "status": "completed"
    },
    "tags": []
   },
   "outputs": [
    {
     "data": {
      "text/html": [
       "<style type='text/css'>\n",
       ".datatable table.frame { margin-bottom: 0; }\n",
       ".datatable table.frame thead { border-bottom: none; }\n",
       ".datatable table.frame tr.coltypes td {  color: #FFFFFF;  line-height: 6px;  padding: 0 0.5em;}\n",
       ".datatable .bool    { background: #DDDD99; }\n",
       ".datatable .object  { background: #565656; }\n",
       ".datatable .int     { background: #5D9E5D; }\n",
       ".datatable .float   { background: #4040CC; }\n",
       ".datatable .str     { background: #CC4040; }\n",
       ".datatable .row_index {  background: var(--jp-border-color3);  border-right: 1px solid var(--jp-border-color0);  color: var(--jp-ui-font-color3);  font-size: 9px;}\n",
       ".datatable .frame tr.coltypes .row_index {  background: var(--jp-border-color0);}\n",
       ".datatable th:nth-child(2) { padding-left: 12px; }\n",
       ".datatable .hellipsis {  color: var(--jp-cell-editor-border-color);}\n",
       ".datatable .vellipsis {  background: var(--jp-layout-color0);  color: var(--jp-cell-editor-border-color);}\n",
       ".datatable .na {  color: var(--jp-cell-editor-border-color);  font-size: 80%;}\n",
       ".datatable .footer { font-size: 9px; }\n",
       ".datatable .frame_dimensions {  background: var(--jp-border-color3);  border-top: 1px solid var(--jp-border-color0);  color: var(--jp-ui-font-color3);  display: inline-block;  opacity: 0.6;  padding: 1px 10px 1px 5px;}\n",
       "</style>\n"
      ],
      "text/plain": [
       "<IPython.core.display.HTML object>"
      ]
     },
     "metadata": {},
     "output_type": "display_data"
    },
    {
     "name": "stdout",
     "output_type": "stream",
     "text": [
      "5.785386289508172\n"
     ]
    }
   ],
   "source": [
    "from lightgbm import LGBMRegressor\n",
    "lgbm=LGBMRegressor()\n",
    "lgbm.fit(X_train,y_train)\n",
    "pred6=lgbm.predict(X_test)\n",
    "mse7=mean_squared_error(y_test,pred6)**0.5\n",
    "print(mse7)"
   ]
  },
  {
   "cell_type": "markdown",
   "id": "bottom-astrology",
   "metadata": {
    "papermill": {
     "duration": 0.034614,
     "end_time": "2021-07-05T14:05:37.136192",
     "exception": false,
     "start_time": "2021-07-05T14:05:37.101578",
     "status": "completed"
    },
    "tags": []
   },
   "source": [
    "# 8. Naive Bayes (Bayesian Ridge) with Label Encoding"
   ]
  },
  {
   "cell_type": "code",
   "execution_count": 15,
   "id": "starting-monte",
   "metadata": {
    "execution": {
     "iopub.execute_input": "2021-07-05T14:05:37.214499Z",
     "iopub.status.busy": "2021-07-05T14:05:37.212814Z",
     "iopub.status.idle": "2021-07-05T14:05:37.262889Z",
     "shell.execute_reply": "2021-07-05T14:05:37.263936Z",
     "shell.execute_reply.started": "2021-07-05T13:52:42.684248Z"
    },
    "papermill": {
     "duration": 0.093638,
     "end_time": "2021-07-05T14:05:37.264254",
     "exception": false,
     "start_time": "2021-07-05T14:05:37.170616",
     "status": "completed"
    },
    "tags": []
   },
   "outputs": [
    {
     "name": "stdout",
     "output_type": "stream",
     "text": [
      "6.555802394732753\n"
     ]
    }
   ],
   "source": [
    "from sklearn.linear_model import BayesianRidge\n",
    "bayreg=BayesianRidge()\n",
    "bayreg.fit(X_train,y_train)\n",
    "pred7=bayreg.predict(X_test)\n",
    "mse8=mean_squared_error(y_test,pred7)**0.5\n",
    "print(mse8)"
   ]
  },
  {
   "cell_type": "markdown",
   "id": "digital-pillow",
   "metadata": {
    "papermill": {
     "duration": 0.037609,
     "end_time": "2021-07-05T14:05:37.396495",
     "exception": false,
     "start_time": "2021-07-05T14:05:37.358886",
     "status": "completed"
    },
    "tags": []
   },
   "source": [
    "# one-hot encoding"
   ]
  },
  {
   "cell_type": "code",
   "execution_count": 16,
   "id": "heard-dress",
   "metadata": {
    "execution": {
     "iopub.execute_input": "2021-07-05T14:05:37.481615Z",
     "iopub.status.busy": "2021-07-05T14:05:37.473457Z",
     "iopub.status.idle": "2021-07-05T14:05:37.684414Z",
     "shell.execute_reply": "2021-07-05T14:05:37.684892Z",
     "shell.execute_reply.started": "2021-07-05T13:53:22.204395Z"
    },
    "papermill": {
     "duration": 0.253733,
     "end_time": "2021-07-05T14:05:37.685071",
     "exception": false,
     "start_time": "2021-07-05T14:05:37.431338",
     "status": "completed"
    },
    "tags": []
   },
   "outputs": [],
   "source": [
    "from sklearn.preprocessing import OneHotEncoder\n",
    "\n",
    "# Apply one-hot encoder to each column with categorical data\n",
    "OH_encoder = OneHotEncoder(handle_unknown='ignore', sparse=False)\n",
    "OH_cols_df = pd.DataFrame(OH_encoder.fit_transform(df[object_cols]))\n",
    "\n",
    "\n",
    "# One-hot encoding removed index; put it back\n",
    "OH_cols_df.index = df.index\n",
    "\n",
    "# Remove categorical columns (will replace with one-hot encoding)\n",
    "num_df = df.drop(object_cols, axis=1)\n",
    "\n",
    "\n",
    "# Add one-hot encoded columns to numerical features\n",
    "OH_df = pd.concat([num_df, OH_cols_df], axis=1)\n",
    "\n",
    "OH_df.head()\n",
    "y=OH_df.TAXI_OUT\n",
    "X=OH_df.drop(['TAXI_OUT'], axis =1)"
   ]
  },
  {
   "cell_type": "code",
   "execution_count": 17,
   "id": "reserved-hebrew",
   "metadata": {
    "execution": {
     "iopub.execute_input": "2021-07-05T14:05:37.758314Z",
     "iopub.status.busy": "2021-07-05T14:05:37.757334Z",
     "iopub.status.idle": "2021-07-05T14:05:37.812003Z",
     "shell.execute_reply": "2021-07-05T14:05:37.811410Z",
     "shell.execute_reply.started": "2021-07-05T13:53:28.500178Z"
    },
    "papermill": {
     "duration": 0.092377,
     "end_time": "2021-07-05T14:05:37.812183",
     "exception": false,
     "start_time": "2021-07-05T14:05:37.719806",
     "status": "completed"
    },
    "tags": []
   },
   "outputs": [],
   "source": [
    "from sklearn.model_selection import train_test_split\n",
    "X_train, X_test, y_train, y_test = train_test_split( X, y, test_size=0.33, random_state=42)"
   ]
  },
  {
   "cell_type": "markdown",
   "id": "hollow-lincoln",
   "metadata": {
    "papermill": {
     "duration": 0.034501,
     "end_time": "2021-07-05T14:05:37.882509",
     "exception": false,
     "start_time": "2021-07-05T14:05:37.848008",
     "status": "completed"
    },
    "tags": []
   },
   "source": [
    "# 1. Linear Regression with One Hot Encoding"
   ]
  },
  {
   "cell_type": "code",
   "execution_count": 18,
   "id": "reverse-bunch",
   "metadata": {
    "execution": {
     "iopub.execute_input": "2021-07-05T14:05:37.962716Z",
     "iopub.status.busy": "2021-07-05T14:05:37.961946Z",
     "iopub.status.idle": "2021-07-05T14:05:38.165302Z",
     "shell.execute_reply": "2021-07-05T14:05:38.166236Z",
     "shell.execute_reply.started": "2021-07-05T13:53:32.326654Z"
    },
    "papermill": {
     "duration": 0.248531,
     "end_time": "2021-07-05T14:05:38.166488",
     "exception": false,
     "start_time": "2021-07-05T14:05:37.917957",
     "status": "completed"
    },
    "tags": []
   },
   "outputs": [
    {
     "name": "stdout",
     "output_type": "stream",
     "text": [
      "6.278996227300192\n"
     ]
    }
   ],
   "source": [
    "from sklearn.linear_model import LinearRegression\n",
    "from sklearn.metrics import mean_squared_error\n",
    "lreg=LinearRegression()\n",
    "lreg.fit(X_train,y_train)\n",
    "pred=lreg.predict(X_test)\n",
    "mse_1=mean_squared_error(y_test,pred)**0.5\n",
    "print(mse_1)"
   ]
  },
  {
   "cell_type": "markdown",
   "id": "disabled-brick",
   "metadata": {
    "papermill": {
     "duration": 0.034532,
     "end_time": "2021-07-05T14:05:38.316825",
     "exception": false,
     "start_time": "2021-07-05T14:05:38.282293",
     "status": "completed"
    },
    "tags": []
   },
   "source": [
    "# 2. Ridge Regression with One Hot Encoding"
   ]
  },
  {
   "cell_type": "code",
   "execution_count": 19,
   "id": "little-comment",
   "metadata": {
    "execution": {
     "iopub.execute_input": "2021-07-05T14:05:38.398734Z",
     "iopub.status.busy": "2021-07-05T14:05:38.396648Z",
     "iopub.status.idle": "2021-07-05T14:05:38.535920Z",
     "shell.execute_reply": "2021-07-05T14:05:38.537331Z",
     "shell.execute_reply.started": "2021-07-05T13:53:36.241317Z"
    },
    "papermill": {
     "duration": 0.186097,
     "end_time": "2021-07-05T14:05:38.537644",
     "exception": false,
     "start_time": "2021-07-05T14:05:38.351547",
     "status": "completed"
    },
    "tags": []
   },
   "outputs": [
    {
     "name": "stdout",
     "output_type": "stream",
     "text": [
      "6.274927815995527\n"
     ]
    }
   ],
   "source": [
    "from sklearn.linear_model import Ridge\n",
    "ridgereg=Ridge(alpha=0.05, normalize=True)\n",
    "ridgereg.fit(X_train,y_train)\n",
    "pred1=ridgereg.predict(X_test)\n",
    "mse_2=mean_squared_error(y_test,pred1)**0.5\n",
    "print(mse_2)"
   ]
  },
  {
   "cell_type": "markdown",
   "id": "political-broadcasting",
   "metadata": {
    "papermill": {
     "duration": 0.040957,
     "end_time": "2021-07-05T14:05:38.664161",
     "exception": false,
     "start_time": "2021-07-05T14:05:38.623204",
     "status": "completed"
    },
    "tags": []
   },
   "source": [
    "# 3. Lasso Regression with One Hot Encoding"
   ]
  },
  {
   "cell_type": "code",
   "execution_count": 20,
   "id": "hearing-halifax",
   "metadata": {
    "execution": {
     "iopub.execute_input": "2021-07-05T14:05:38.746235Z",
     "iopub.status.busy": "2021-07-05T14:05:38.744644Z",
     "iopub.status.idle": "2021-07-05T14:05:38.835104Z",
     "shell.execute_reply": "2021-07-05T14:05:38.833985Z",
     "shell.execute_reply.started": "2021-07-05T13:53:40.158057Z"
    },
    "papermill": {
     "duration": 0.13602,
     "end_time": "2021-07-05T14:05:38.835353",
     "exception": false,
     "start_time": "2021-07-05T14:05:38.699333",
     "status": "completed"
    },
    "tags": []
   },
   "outputs": [
    {
     "name": "stdout",
     "output_type": "stream",
     "text": [
      "6.840950274381113\n"
     ]
    }
   ],
   "source": [
    "from sklearn.linear_model import Lasso\n",
    "lasreg=Lasso(alpha=0.05, normalize=True)\n",
    "lasreg.fit(X_train,y_train)\n",
    "pred2=lasreg.predict(X_test)\n",
    "mse_3=mean_squared_error(y_test,pred2)**0.5\n",
    "print(mse_3)"
   ]
  },
  {
   "cell_type": "markdown",
   "id": "sorted-greek",
   "metadata": {
    "papermill": {
     "duration": 0.052441,
     "end_time": "2021-07-05T14:05:38.960927",
     "exception": false,
     "start_time": "2021-07-05T14:05:38.908486",
     "status": "completed"
    },
    "tags": []
   },
   "source": [
    "# 4. KNN regression with One Hot Encoding"
   ]
  },
  {
   "cell_type": "code",
   "execution_count": 21,
   "id": "sixth-attitude",
   "metadata": {
    "execution": {
     "iopub.execute_input": "2021-07-05T14:05:39.042537Z",
     "iopub.status.busy": "2021-07-05T14:05:39.041830Z",
     "iopub.status.idle": "2021-07-05T14:05:43.812472Z",
     "shell.execute_reply": "2021-07-05T14:05:43.812924Z",
     "shell.execute_reply.started": "2021-07-05T13:53:44.134660Z"
    },
    "papermill": {
     "duration": 4.816406,
     "end_time": "2021-07-05T14:05:43.813100",
     "exception": false,
     "start_time": "2021-07-05T14:05:38.996694",
     "status": "completed"
    },
    "tags": []
   },
   "outputs": [
    {
     "name": "stdout",
     "output_type": "stream",
     "text": [
      "6.65972525456585\n"
     ]
    }
   ],
   "source": [
    "from sklearn.neighbors import KNeighborsRegressor\n",
    "knnr=KNeighborsRegressor(n_neighbors=200)\n",
    "knnr.fit(X_train,y_train)\n",
    "pred3=knnr.predict(X_test)\n",
    "mse_4=mean_squared_error(y_test,pred3)**0.5\n",
    "print(mse_4)"
   ]
  },
  {
   "cell_type": "markdown",
   "id": "peaceful-salon",
   "metadata": {
    "papermill": {
     "duration": 0.035509,
     "end_time": "2021-07-05T14:05:43.884869",
     "exception": false,
     "start_time": "2021-07-05T14:05:43.849360",
     "status": "completed"
    },
    "tags": []
   },
   "source": [
    "# 5. Support Vector Regression with One Hot Encoding"
   ]
  },
  {
   "cell_type": "code",
   "execution_count": 22,
   "id": "talented-jimmy",
   "metadata": {
    "execution": {
     "iopub.execute_input": "2021-07-05T14:05:43.966011Z",
     "iopub.status.busy": "2021-07-05T14:05:43.964450Z",
     "iopub.status.idle": "2021-07-05T14:07:55.951103Z",
     "shell.execute_reply": "2021-07-05T14:07:55.951650Z",
     "shell.execute_reply.started": "2021-07-05T13:53:52.982181Z"
    },
    "papermill": {
     "duration": 132.030943,
     "end_time": "2021-07-05T14:07:55.951837",
     "exception": false,
     "start_time": "2021-07-05T14:05:43.920894",
     "status": "completed"
    },
    "tags": []
   },
   "outputs": [
    {
     "name": "stdout",
     "output_type": "stream",
     "text": [
      "6.295220750860302\n"
     ]
    }
   ],
   "source": [
    "from sklearn.svm import SVR\n",
    "from sklearn.preprocessing import StandardScaler\n",
    "sc1=StandardScaler()\n",
    "sc2=StandardScaler()\n",
    "x1=X_train.copy()\n",
    "x2=X_test.copy()\n",
    "x1=sc1.fit_transform(x1)\n",
    "x2=sc2.fit_transform(x2)\n",
    "svr=SVR()\n",
    "svr.fit(x1,y_train)\n",
    "pred4=svr.predict(x2)\n",
    "mse_5=mean_squared_error(y_test,pred4)**0.5\n",
    "print(mse_5)"
   ]
  },
  {
   "cell_type": "markdown",
   "id": "motivated-carpet",
   "metadata": {
    "papermill": {
     "duration": 0.035895,
     "end_time": "2021-07-05T14:07:56.025775",
     "exception": false,
     "start_time": "2021-07-05T14:07:55.989880",
     "status": "completed"
    },
    "tags": []
   },
   "source": [
    "# 6. Random Forest Regression with One Hot Encoding"
   ]
  },
  {
   "cell_type": "code",
   "execution_count": 23,
   "id": "textile-partition",
   "metadata": {
    "execution": {
     "iopub.execute_input": "2021-07-05T14:07:56.110268Z",
     "iopub.status.busy": "2021-07-05T14:07:56.108265Z",
     "iopub.status.idle": "2021-07-05T14:08:39.166304Z",
     "shell.execute_reply": "2021-07-05T14:08:39.166798Z",
     "shell.execute_reply.started": "2021-07-05T13:56:14.266912Z"
    },
    "papermill": {
     "duration": 43.104816,
     "end_time": "2021-07-05T14:08:39.166968",
     "exception": false,
     "start_time": "2021-07-05T14:07:56.062152",
     "status": "completed"
    },
    "tags": []
   },
   "outputs": [
    {
     "name": "stdout",
     "output_type": "stream",
     "text": [
      "5.714726442948722\n"
     ]
    }
   ],
   "source": [
    "from sklearn.ensemble import RandomForestRegressor\n",
    "rand=RandomForestRegressor()\n",
    "rand.fit(X_train,y_train)\n",
    "pred5=rand.predict(X_test)\n",
    "mse_6=mean_squared_error(y_test,pred5)**0.5\n",
    "print(mse_6)"
   ]
  },
  {
   "cell_type": "markdown",
   "id": "posted-mexico",
   "metadata": {
    "papermill": {
     "duration": 0.035944,
     "end_time": "2021-07-05T14:08:39.239249",
     "exception": false,
     "start_time": "2021-07-05T14:08:39.203305",
     "status": "completed"
    },
    "tags": []
   },
   "source": [
    "# 7. Light GBM model with One Hot Encoding"
   ]
  },
  {
   "cell_type": "code",
   "execution_count": 24,
   "id": "competitive-objective",
   "metadata": {
    "execution": {
     "iopub.execute_input": "2021-07-05T14:08:39.318520Z",
     "iopub.status.busy": "2021-07-05T14:08:39.316643Z",
     "iopub.status.idle": "2021-07-05T14:08:39.666532Z",
     "shell.execute_reply": "2021-07-05T14:08:39.667424Z",
     "shell.execute_reply.started": "2021-07-05T13:57:05.545326Z"
    },
    "papermill": {
     "duration": 0.392216,
     "end_time": "2021-07-05T14:08:39.667692",
     "exception": false,
     "start_time": "2021-07-05T14:08:39.275476",
     "status": "completed"
    },
    "tags": []
   },
   "outputs": [
    {
     "name": "stdout",
     "output_type": "stream",
     "text": [
      "5.788277519783179\n"
     ]
    }
   ],
   "source": [
    "from lightgbm import LGBMRegressor\n",
    "lgbm=LGBMRegressor()\n",
    "lgbm.fit(X_train,y_train)\n",
    "pred6=lgbm.predict(X_test)\n",
    "mse_7=mean_squared_error(y_test,pred6)**0.5\n",
    "print(mse_7)"
   ]
  },
  {
   "cell_type": "markdown",
   "id": "jewish-bankruptcy",
   "metadata": {
    "papermill": {
     "duration": 0.045042,
     "end_time": "2021-07-05T14:08:39.751733",
     "exception": false,
     "start_time": "2021-07-05T14:08:39.706691",
     "status": "completed"
    },
    "tags": []
   },
   "source": [
    "# 8. Naive Bayes (Bayesian Ridge) with One Hot Encoding"
   ]
  },
  {
   "cell_type": "code",
   "execution_count": 25,
   "id": "nominated-eleven",
   "metadata": {
    "execution": {
     "iopub.execute_input": "2021-07-05T14:08:39.851415Z",
     "iopub.status.busy": "2021-07-05T14:08:39.849368Z",
     "iopub.status.idle": "2021-07-05T14:08:40.480484Z",
     "shell.execute_reply": "2021-07-05T14:08:40.482196Z",
     "shell.execute_reply.started": "2021-07-05T13:57:10.619700Z"
    },
    "papermill": {
     "duration": 0.683011,
     "end_time": "2021-07-05T14:08:40.482478",
     "exception": false,
     "start_time": "2021-07-05T14:08:39.799467",
     "status": "completed"
    },
    "tags": []
   },
   "outputs": [
    {
     "name": "stdout",
     "output_type": "stream",
     "text": [
      "6.28311748855992\n"
     ]
    }
   ],
   "source": [
    "from sklearn.linear_model import BayesianRidge\n",
    "bayreg=BayesianRidge()\n",
    "bayreg.fit(X_train,y_train)\n",
    "pred7=bayreg.predict(X_test)\n",
    "mse_8=mean_squared_error(y_test,pred7)**0.5\n",
    "print(mse_8)"
   ]
  },
  {
   "cell_type": "markdown",
   "id": "stock-harbor",
   "metadata": {
    "papermill": {
     "duration": 0.037309,
     "end_time": "2021-07-05T14:08:40.631260",
     "exception": false,
     "start_time": "2021-07-05T14:08:40.593951",
     "status": "completed"
    },
    "tags": []
   },
   "source": [
    "#comparison "
   ]
  },
  {
   "cell_type": "code",
   "execution_count": 26,
   "id": "casual-question",
   "metadata": {
    "execution": {
     "iopub.execute_input": "2021-07-05T14:08:40.750849Z",
     "iopub.status.busy": "2021-07-05T14:08:40.734229Z",
     "iopub.status.idle": "2021-07-05T14:08:40.926360Z",
     "shell.execute_reply": "2021-07-05T14:08:40.926847Z",
     "shell.execute_reply.started": "2021-07-05T13:58:15.444709Z"
    },
    "papermill": {
     "duration": 0.257627,
     "end_time": "2021-07-05T14:08:40.927015",
     "exception": false,
     "start_time": "2021-07-05T14:08:40.669388",
     "status": "completed"
    },
    "tags": []
   },
   "outputs": [
    {
     "data": {
      "text/plain": [
       "<function matplotlib.pyplot.show(close=None, block=None)>"
      ]
     },
     "execution_count": 26,
     "metadata": {},
     "output_type": "execute_result"
    },
    {
     "data": {
      "image/png": "[encoded data removed]",
      "text/plain": [
       "<Figure size 432x288 with 1 Axes>"
      ]
     },
     "metadata": {
      "needs_background": "light"
     },
     "output_type": "display_data"
    }
   ],
   "source": [
    "import numpy as np\n",
    "RMSE1=np.array([mse1,mse2,mse3,mse4,mse5,mse6,mse7,mse8])\n",
    "RMSE2=np.array([mse_1,mse_2,mse_3,mse_4,mse_5,mse_6,mse_7,mse_8])\n",
    "\n",
    "from matplotlib import pyplot as plt\n",
    "\n",
    "plt.plot([\"linear\",\"Lasso\",\"Ridge\",\"KNN\",\"SVR\",\"RFA\",\"LGBM\",\"NB\"],RMSE1,\"k\",label=\"label encoding\",linewidth=1)\n",
    "plt.plot([\"linear\",\"Lasso\",\"Ridge\",\"KNN\",\"SVR\",\"RFA\",\"LGBM\",\"NB\"],RMSE2,\"b\",label=\"one hot encoding\",linewidth=1)\n",
    "\n",
    "plt.title(\"comparison\")\n",
    "plt.xlabel(\"different model\")\n",
    "plt.ylabel(\"root mean squared error\")\n",
    "plt.legend() \n",
    "\n",
    "plt.show"
   ]
  }
 ],
 "metadata": {
  "kernelspec": {
   "display_name": "Python 3",
   "language": "python",
   "name": "python3"
  },
  "language_info": {
   "codemirror_mode": {
    "name": "ipython",
    "version": 3
   },
   "file_extension": ".py",
   "mimetype": "text/x-python",
   "name": "python",
   "nbconvert_exporter": "python",
   "pygments_lexer": "ipython3",
   "version": "3.7.10"
  },
  "papermill": {
   "default_parameters": {},
   "duration": 260.769508,
   "end_time": "2021-07-05T14:08:41.777591",
   "environment_variables": {},
   "exception": null,
   "input_path": "__notebook__.ipynb",
   "output_path": "__notebook__.ipynb",
   "parameters": {},
   "start_time": "2021-07-05T14:04:21.008083",
   "version": "2.3.3"
  }
 },
 "nbformat": 4,
 "nbformat_minor": 5
}
